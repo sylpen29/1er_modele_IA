{
 "cells": [
  {
   "cell_type": "markdown",
   "metadata": {},
   "source": [
    "<h2><center>Premier Modèle IA</center></h2>\n",
    "<h4><center>(Régression linéaire simple, multiple et polynomiale)</center></h4>"
   ]
  },
  {
   "cell_type": "markdown",
   "metadata": {},
   "source": [
    "### 1. Régression linéaire simple :"
   ]
  },
  {
   "cell_type": "code",
   "execution_count": 1,
   "metadata": {},
   "outputs": [
    {
     "ename": "ModuleNotFoundError",
     "evalue": "No module named 'pandas'",
     "output_type": "error",
     "traceback": [
      "\u001b[1;31m---------------------------------------------------------------------------\u001b[0m",
      "\u001b[1;31mModuleNotFoundError\u001b[0m                       Traceback (most recent call last)",
      "\u001b[1;32mC:\\Users\\UTILIS~1\\AppData\\Local\\Temp/ipykernel_20376/1718753990.py\u001b[0m in \u001b[0;36m<module>\u001b[1;34m\u001b[0m\n\u001b[1;32m----> 1\u001b[1;33m \u001b[1;32mimport\u001b[0m \u001b[0mpandas\u001b[0m \u001b[1;32mas\u001b[0m \u001b[0mpd\u001b[0m\u001b[1;33m\u001b[0m\u001b[1;33m\u001b[0m\u001b[0m\n\u001b[0m\u001b[0;32m      2\u001b[0m \u001b[1;32mimport\u001b[0m \u001b[0mnumpy\u001b[0m \u001b[1;32mas\u001b[0m \u001b[0mnp\u001b[0m\u001b[1;33m\u001b[0m\u001b[1;33m\u001b[0m\u001b[0m\n\u001b[0;32m      3\u001b[0m \u001b[1;32mimport\u001b[0m \u001b[0mscipy\u001b[0m \u001b[1;32mas\u001b[0m \u001b[0msp\u001b[0m\u001b[1;33m\u001b[0m\u001b[1;33m\u001b[0m\u001b[0m\n\u001b[0;32m      4\u001b[0m \u001b[1;31m# biliothèques graphiques\u001b[0m\u001b[1;33m\u001b[0m\u001b[1;33m\u001b[0m\u001b[1;33m\u001b[0m\u001b[0m\n\u001b[0;32m      5\u001b[0m \u001b[1;32mimport\u001b[0m \u001b[0mmatplotlib\u001b[0m\u001b[1;33m.\u001b[0m\u001b[0mpyplot\u001b[0m \u001b[1;32mas\u001b[0m \u001b[0mplt\u001b[0m\u001b[1;33m\u001b[0m\u001b[1;33m\u001b[0m\u001b[0m\n",
      "\u001b[1;31mModuleNotFoundError\u001b[0m: No module named 'pandas'"
     ]
    }
   ],
   "source": [
    "import pandas as pd\n",
    "import numpy as np\n",
    "import scipy as sp\n",
    "# biliothèques graphiques\n",
    "import matplotlib.pyplot as plt\n",
    "#bibliothèques sklearn\n",
    "from sklearn.metrics import mean_squared_error, r2_score\n"
   ]
  },
  {
   "cell_type": "code",
   "execution_count": null,
   "metadata": {},
   "outputs": [
    {
     "name": "stdout",
     "output_type": "stream",
     "text": [
      "dossier existant\n",
      "dossier créé\n"
     ]
    }
   ],
   "source": [
    "# Créer un dossier après vérification\n",
    "import os\n",
    "try: \n",
    "    os.makedirs('./graphiques')\n",
    "except:\n",
    "    print('dossier existant')\n",
    "print('dossier créé')"
   ]
  },
  {
   "cell_type": "markdown",
   "metadata": {},
   "source": [
    "##### 1.1- Récupération des données"
   ]
  },
  {
   "cell_type": "code",
   "execution_count": null,
   "metadata": {},
   "outputs": [
    {
     "data": {
      "text/html": [
       "<div>\n",
       "<style scoped>\n",
       "    .dataframe tbody tr th:only-of-type {\n",
       "        vertical-align: middle;\n",
       "    }\n",
       "\n",
       "    .dataframe tbody tr th {\n",
       "        vertical-align: top;\n",
       "    }\n",
       "\n",
       "    .dataframe thead th {\n",
       "        text-align: right;\n",
       "    }\n",
       "</style>\n",
       "<table border=\"1\" class=\"dataframe\">\n",
       "  <thead>\n",
       "    <tr style=\"text-align: right;\">\n",
       "      <th></th>\n",
       "      <th>heure_rev</th>\n",
       "      <th>note</th>\n",
       "    </tr>\n",
       "  </thead>\n",
       "  <tbody>\n",
       "    <tr>\n",
       "      <th>0</th>\n",
       "      <td>2</td>\n",
       "      <td>10</td>\n",
       "    </tr>\n",
       "    <tr>\n",
       "      <th>1</th>\n",
       "      <td>3</td>\n",
       "      <td>12</td>\n",
       "    </tr>\n",
       "  </tbody>\n",
       "</table>\n",
       "</div>"
      ],
      "text/plain": [
       "   heure_rev  note\n",
       "0          2    10\n",
       "1          3    12"
      ]
     },
     "execution_count": 53,
     "metadata": {},
     "output_type": "execute_result"
    }
   ],
   "source": [
    "reg_simple = pd.read_csv(\"./bdd/reg_simple.csv\")\n",
    "reg_simple.head(2)"
   ]
  },
  {
   "cell_type": "markdown",
   "metadata": {},
   "source": [
    "##### 1.2- Visualisation des données (le Dataset)"
   ]
  },
  {
   "cell_type": "code",
   "execution_count": null,
   "metadata": {},
   "outputs": [
    {
     "name": "stdout",
     "output_type": "stream",
     "text": [
      "shape :  (27, 2)\n",
      "<class 'pandas.core.frame.DataFrame'>\n",
      "RangeIndex: 27 entries, 0 to 26\n",
      "Data columns (total 2 columns):\n",
      " #   Column     Non-Null Count  Dtype\n",
      "---  ------     --------------  -----\n",
      " 0   heure_rev  27 non-null     int64\n",
      " 1   note       27 non-null     int64\n",
      "dtypes: int64(2)\n",
      "memory usage: 560.0 bytes\n"
     ]
    }
   ],
   "source": [
    "print('shape : ',reg_simple.shape)\n",
    "reg_simple.info()"
   ]
  },
  {
   "cell_type": "code",
   "execution_count": null,
   "metadata": {},
   "outputs": [
    {
     "name": "stdout",
     "output_type": "stream",
     "text": [
      "shape :  (27, 1) \n",
      "type :  <class 'pandas.core.frame.DataFrame'>\n",
      "shape :  (27, 2) \n",
      "type :  <class 'numpy.ndarray'> [[2. 1.]\n",
      " [3. 1.]\n",
      " [4. 1.]\n",
      " [5. 1.]\n",
      " [6. 1.]]\n"
     ]
    }
   ],
   "source": [
    "# Récupération de la colonne en matrice\n",
    "x = reg_simple[['heure_rev']]\n",
    "print('shape : ',x.shape,'\\ntype : ', type(x))\n",
    "X = np.hstack((x, np.ones(x.shape)))\n",
    "print('shape : ',X.shape,'\\ntype : ', type(X), X[:5])"
   ]
  },
  {
   "cell_type": "code",
   "execution_count": null,
   "metadata": {},
   "outputs": [
    {
     "name": "stdout",
     "output_type": "stream",
     "text": [
      "shape :  (27, 1) [[10]\n",
      " [12]\n",
      " [20]\n",
      " [22]\n",
      " [21]]\n"
     ]
    }
   ],
   "source": [
    "y = reg_simple[['note']].values\n",
    "print('shape : ',y.shape, y[:5])"
   ]
  },
  {
   "cell_type": "code",
   "execution_count": null,
   "metadata": {},
   "outputs": [
    {
     "data": {
      "text/plain": [
       "array([[1.76405235],\n",
       "       [0.40015721]])"
      ]
     },
     "execution_count": 57,
     "metadata": {},
     "output_type": "execute_result"
    }
   ],
   "source": [
    "# Theta de vecteur 2,1 (a et b) :\n",
    "np.random.seed(0)\n",
    "theta = np.random.randn(2,1)\n",
    "\n",
    "# theta.shape\n",
    "theta"
   ]
  },
  {
   "cell_type": "markdown",
   "metadata": {},
   "source": [
    "##### 1.2- modele"
   ]
  },
  {
   "cell_type": "code",
   "execution_count": null,
   "metadata": {},
   "outputs": [
    {
     "data": {
      "text/plain": [
       "array([[ 3.9282619 ],\n",
       "       [ 5.69231425],\n",
       "       [ 7.45636659],\n",
       "       [ 9.22041894],\n",
       "       [10.98447128]])"
      ]
     },
     "execution_count": 58,
     "metadata": {},
     "output_type": "execute_result"
    }
   ],
   "source": [
    "# définition du modèle\n",
    "def model(X, theta):\n",
    "    return X.dot(theta)\n",
    "\n",
    "# test de la fonction sur X et theta, et qu'il n'y a pas d'erreur de programmation \n",
    "model(X, theta)[:5]"
   ]
  },
  {
   "cell_type": "markdown",
   "metadata": {},
   "source": [
    "##### 1.3- Création du modèle (model(X,theta))"
   ]
  },
  {
   "cell_type": "code",
   "execution_count": null,
   "metadata": {},
   "outputs": [
    {
     "data": {
      "image/png": "[encoded data removed]",
      "text/plain": [
       "<Figure size 432x288 with 1 Axes>"
      ]
     },
     "metadata": {
      "needs_background": "light"
     },
     "output_type": "display_data"
    }
   ],
   "source": [
    "plt.scatter(x,y, label=\"Courbe x/y\")\n",
    "# Vérification du modèle avec matplotlib\n",
    "# afficher le résultat du modèle par rapport à notre dataset x\n",
    "plt.plot(x, model(X, theta), c='red', label=\"Courbe du modèle\")\n",
    "# On obtient une pente montante  (si a neg, la pente serait descendente) \n",
    "\n",
    "# titres et labels\n",
    "plt.title(\"Régression linéaire simple - Vérification du modèle - reg_simple.csv\")\n",
    "plt.legend()\n",
    "plt.xlabel(\"note\")\n",
    "plt.ylabel(\"heure_rev\")\n",
    "# sauvegarde :\n",
    "plt.savefig('./graphiques/graph01_regLineaire_verif_model.png')\n",
    "# affiche la figure a l'ecran\n",
    "#plt.show()"
   ]
  },
  {
   "cell_type": "markdown",
   "metadata": {},
   "source": [
    "##### 1.4- Fonction du coût (fonction_cout(X,y,theta))"
   ]
  },
  {
   "cell_type": "code",
   "execution_count": null,
   "metadata": {},
   "outputs": [],
   "source": [
    "# l'erreur chromatique moyenne\n",
    "# définition de la fonction\n",
    "def fonction_cout (X, y, theta):\n",
    "    # varible m = à de longueur du vecteur y (autant d'exemple dans notre data)\n",
    "    m = len(y)\n",
    "    # m = le nb d'exemple dans notre dataset\n",
    "    return 1/(2*m) * np.sum((model(X, theta) - y)**2)"
   ]
  },
  {
   "cell_type": "code",
   "execution_count": null,
   "metadata": {},
   "outputs": [
    {
     "data": {
      "text/plain": [
       "376.1911774975494"
      ]
     },
     "execution_count": 61,
     "metadata": {},
     "output_type": "execute_result"
    }
   ],
   "source": [
    "# Test de la fonction\n",
    "fonction_cout (X, y, theta)"
   ]
  },
  {
   "cell_type": "markdown",
   "metadata": {},
   "source": [
    "##### 1.5- Gradient (gradient(X,y,theta))"
   ]
  },
  {
   "cell_type": "code",
   "execution_count": null,
   "metadata": {},
   "outputs": [
    {
     "data": {
      "text/plain": [
       "array([[-464.18503787],\n",
       "       [ -23.91475355]])"
      ]
     },
     "execution_count": 62,
     "metadata": {},
     "output_type": "execute_result"
    }
   ],
   "source": [
    "def grad(X, y, theta):\n",
    "    m = len(y)\n",
    "    # X.T = transposée de X, produit matriciel : .dot()\n",
    "    return 1/m * X.T.dot(model(X, theta) - y)\n",
    "\n",
    "grad(X, y, theta)"
   ]
  },
  {
   "cell_type": "markdown",
   "metadata": {},
   "source": [
    "##### 1.6- Descente du gradient (descente_gradient(X,y,theta,alpha,n_iterations))"
   ]
  },
  {
   "cell_type": "code",
   "execution_count": null,
   "metadata": {},
   "outputs": [],
   "source": [
    "def descent_grad(X, y, theta, learning_rate, n_iterations):\n",
    "    # Variable de 0 de longueur des itération\n",
    "    cost_history = np.zeros(n_iterations)\n",
    "    for i in range(0, n_iterations):\n",
    "        theta = theta - learning_rate * grad(X, y, theta)\n",
    "        cost_history[i] = fonction_cout(X, y, theta)\n",
    "    \n",
    "    return theta, cost_history"
   ]
  },
  {
   "cell_type": "markdown",
   "metadata": {},
   "source": [
    "##### 1.7- Evaluation du modèle en utilisant le coefficient de détermination"
   ]
  },
  {
   "cell_type": "code",
   "execution_count": null,
   "metadata": {},
   "outputs": [],
   "source": [
    "nbpas = 0.0001\n",
    "nbit = 30"
   ]
  },
  {
   "cell_type": "code",
   "execution_count": null,
   "metadata": {},
   "outputs": [
    {
     "data": {
      "text/plain": [
       "array([[2.69687026],\n",
       "       [0.44820512]])"
      ]
     },
     "execution_count": 65,
     "metadata": {},
     "output_type": "execute_result"
    }
   ],
   "source": [
    "theta_final, cost_history = descent_grad(X, y, theta, learning_rate=nbpas, n_iterations=nbit)\n",
    "theta_final\n",
    "# C'est un vecteur avec a et b "
   ]
  },
  {
   "cell_type": "markdown",
   "metadata": {},
   "source": [
    "##### 1.8- Traçage de la courbe de la fonction du coût selon les itérations"
   ]
  },
  {
   "cell_type": "code",
   "execution_count": null,
   "metadata": {},
   "outputs": [
    {
     "data": {
      "image/png": "[encoded data removed]",
      "text/plain": [
       "<Figure size 432x288 with 1 Axes>"
      ]
     },
     "metadata": {
      "needs_background": "light"
     },
     "output_type": "display_data"
    }
   ],
   "source": [
    "predictions = model(X, theta_final)\n",
    "plt.scatter(x, y, label=\"courbe x/y\")\n",
    "plt.plot(x, predictions, c='r', label=\"courbe fonction coût/itérations\")\n",
    "\n",
    "# titres et labels\n",
    "plt.title(\"Régression linéaire simple - courbe de la fonction coût - reg_simple.csv\")\n",
    "plt.legend()\n",
    "plt.xlabel(\"note\")\n",
    "plt.ylabel(\"heure_rev\")\n",
    "plt.savefig('./graphiques/graph02_regLineaire_model.png')\n"
   ]
  },
  {
   "cell_type": "code",
   "execution_count": null,
   "metadata": {},
   "outputs": [
    {
     "data": {
      "image/png": "[encoded data removed]",
      "text/plain": [
       "<Figure size 432x288 with 1 Axes>"
      ]
     },
     "metadata": {
      "needs_background": "light"
     },
     "output_type": "display_data"
    }
   ],
   "source": [
    "# Courbe de contrôle cost_history\n",
    "plt.plot(range(nbit), cost_history)\n",
    "\n",
    "# titres et labels\n",
    "plt.title(\"Régression linéaire simple - Courbe de contrôle cost_history - reg_simple.csv\")\n",
    "plt.xlabel(\"nombre d'itération\")\n",
    "plt.ylabel(\"cost_history\")\n",
    "plt.savefig('./graphiques/graph03_regLineaire_contrôle.png')"
   ]
  },
  {
   "cell_type": "code",
   "execution_count": null,
   "metadata": {},
   "outputs": [
    {
     "data": {
      "text/plain": [
       "0.8092811830196187"
      ]
     },
     "execution_count": 68,
     "metadata": {},
     "output_type": "execute_result"
    }
   ],
   "source": [
    "# Coeff de détermination : plus il est proche de 1, plus il proche de 1, plus il est efficace\n",
    "def coef_determination(y, pred):\n",
    "    u = ((y - pred)**2).sum()\n",
    "    v = ((y - y.mean())**2).sum()\n",
    "    return 1 - u/v\n",
    "\n",
    "coef_determination(y, predictions)"
   ]
  },
  {
   "cell_type": "code",
   "execution_count": null,
   "metadata": {
    "scrolled": false
   },
   "outputs": [
    {
     "name": "stdout",
     "output_type": "stream",
     "text": [
      "MSE=  141.36476372475866\n",
      "Score=  0.8092811830196187\n"
     ]
    }
   ],
   "source": [
    "#from sklearn.metrics import mean_squared_error, mean_absolute_error, r2_score\n",
    "mse = mean_squared_error(y, predictions)\n",
    "print(\"MSE= \", mse)\n",
    "sc=r2_score(y, predictions)\n",
    "print(\"Score= \", sc)"
   ]
  },
  {
   "cell_type": "code",
   "execution_count": null,
   "metadata": {},
   "outputs": [],
   "source": []
  },
  {
   "cell_type": "markdown",
   "metadata": {},
   "source": [
    "  "
   ]
  },
  {
   "cell_type": "markdown",
   "metadata": {},
   "source": [
    "###  1.9 ***<u>Scikit-Learn</u>***  :Régression linéaire "
   ]
  },
  {
   "cell_type": "code",
   "execution_count": null,
   "metadata": {},
   "outputs": [],
   "source": [
    "#bibliothèques sklearn\n",
    "from sklearn.metrics import mean_squared_error, r2_score\n",
    "from sklearn.preprocessing import StandardScaler\n",
    "from sklearn.model_selection import train_test_split\n",
    "from sklearn.linear_model import LinearRegression, LogisticRegression"
   ]
  },
  {
   "cell_type": "code",
   "execution_count": null,
   "metadata": {},
   "outputs": [
    {
     "data": {
      "text/plain": [
       "(   heure_rev\n",
       " 0          2\n",
       " 1          3\n",
       " 2          4\n",
       " 3          5\n",
       " 4          6,\n",
       "    note\n",
       " 0    10\n",
       " 1    12\n",
       " 2    20\n",
       " 3    22\n",
       " 4    21)"
      ]
     },
     "execution_count": 71,
     "metadata": {},
     "output_type": "execute_result"
    }
   ],
   "source": [
    "X = reg_simple[['heure_rev']]\n",
    "y = reg_simple[['note']]\n",
    "x.head(), y.head()"
   ]
  },
  {
   "cell_type": "code",
   "execution_count": null,
   "metadata": {},
   "outputs": [],
   "source": [
    "# Fractionnement le jeu de données en jeu d'entraînement et jeu de test (20% pour le test)\n",
    "X_train, X_test, y_train, y_test = train_test_split(X, y, test_size = 1/3, random_state = 0)"
   ]
  },
  {
   "cell_type": "code",
   "execution_count": null,
   "metadata": {},
   "outputs": [
    {
     "data": {
      "text/plain": [
       "LinearRegression()"
      ]
     },
     "execution_count": 73,
     "metadata": {},
     "output_type": "execute_result"
    }
   ],
   "source": [
    "# Création du modèle LinearRegression et entraînement sur les données d'entraînement\n",
    "regressor = LinearRegression()\n",
    "regressor.fit(X_train, y_train)"
   ]
  },
  {
   "cell_type": "code",
   "execution_count": null,
   "metadata": {},
   "outputs": [],
   "source": [
    "# Predire les résultats du modèle sur l'ensemble du test\n",
    "y_pred = regressor.predict(X_test)\n"
   ]
  },
  {
   "cell_type": "code",
   "execution_count": null,
   "metadata": {},
   "outputs": [
    {
     "data": {
      "image/png": "[encoded data removed]",
      "text/plain": [
       "<Figure size 432x288 with 1 Axes>"
      ]
     },
     "metadata": {
      "needs_background": "light"
     },
     "output_type": "display_data"
    }
   ],
   "source": [
    "# Visualisation des résultats du modèle sur les données d'entraînement\n",
    "plt.scatter(X_train, y_train, color = 'red', label=\"X_train / y_train\")\n",
    "plt.plot(X_train, regressor.predict(X_train), color = 'blue', label=\"courbe modèle train\")\n",
    "\n",
    "plt.title(\"Régression linéaire Sklearn - modele sur le jeu d'apprentissage\")\n",
    "plt.legend()\n",
    "plt.xlabel('heure_rev train')\n",
    "plt.ylabel('note train')\n",
    "plt.savefig('./graphiques/graph05_regLineaireSklearn_model_train.png')\n",
    "plt.show()"
   ]
  },
  {
   "cell_type": "code",
   "execution_count": null,
   "metadata": {},
   "outputs": [
    {
     "data": {
      "image/png": "[encoded data removed]",
      "text/plain": [
       "<Figure size 432x288 with 1 Axes>"
      ]
     },
     "metadata": {
      "needs_background": "light"
     },
     "output_type": "display_data"
    }
   ],
   "source": [
    "# Visualisation des résultats du modèle sur les données de test\n",
    "plt.scatter(X_test, y_test, color = 'red', label=\"X_test / y_test\")\n",
    "plt.plot(X_train, regressor.predict(X_train), color = 'blue', label=\"courbe modèle test\")\n",
    "\n",
    "plt.title(\"Régression linéaire Sklearn - modele sur le jeu test\")\n",
    "plt.legend()\n",
    "plt.xlabel('heure_rev test')\n",
    "plt.ylabel('note test')\n",
    "plt.savefig('./graphiques/graph06_regLineaireSklearn_model_test.png')\n",
    "plt.show()\n",
    "\n",
    "plt.show()"
   ]
  },
  {
   "cell_type": "code",
   "execution_count": null,
   "metadata": {},
   "outputs": [
    {
     "name": "stdout",
     "output_type": "stream",
     "text": [
      "33.46925691063803\n",
      "Score=  0.9452276990107952\n"
     ]
    }
   ],
   "source": [
    "# Evaluez votre modèle par le mean_squared_error \n",
    "mse = mean_squared_error(y_test, y_pred)\n",
    "print(mse)\n",
    "\n",
    "sc=r2_score(y_test, y_pred)\n",
    "print(\"Score= \", sc)"
   ]
  },
  {
   "cell_type": "code",
   "execution_count": null,
   "metadata": {},
   "outputs": [],
   "source": []
  },
  {
   "cell_type": "markdown",
   "metadata": {},
   "source": [
    "### 2. Régression linéaire multiple :"
   ]
  },
  {
   "cell_type": "markdown",
   "metadata": {},
   "source": [
    "###### L’exemple développé à partir de deux variables (régression simple) permet de comprendre la logique de la théorie de la régression mais il ne peut être généralisé de la sorte aux régressions multiples. Le système à deux équations à deux inconnus présenté se résolvait facilement comme on l’a vu. Les équations se compliquent avec plusieurs régresseurs, deux méthodes distinctes permettent de résoudre les équations. La première repose sur la connaissance des coefficients de corrélation linéaire simple de toutes les paires de variables entre elles, de la moyenne arithmétique et des écarts-types de toutes les variables. La seconde repose sur des calculs matriciels. En utilisant la méthode matricielle :"
   ]
  },
  {
   "cell_type": "markdown",
   "metadata": {},
   "source": [
    "##### 2.1 - Implémentez un modèle de régression multiple sur la base de données issue du fichier nommé boston_house_prices.csv (sans utiliser la bibliothèque Scikit-learn)."
   ]
  },
  {
   "cell_type": "code",
   "execution_count": null,
   "metadata": {},
   "outputs": [],
   "source": [
    "import pandas as pd\n",
    "import numpy as np\n",
    "import scipy as sp\n",
    "# biliothèques graphiques\n",
    "import matplotlib.pyplot as plt\n",
    "import seaborn as sns\n",
    "from mpl_toolkits.mplot3d import Axes3D\n",
    "#bibliothèques sklearn\n",
    "from sklearn.metrics import mean_squared_error, r2_score\n"
   ]
  },
  {
   "cell_type": "code",
   "execution_count": null,
   "metadata": {},
   "outputs": [],
   "source": [
    "bhp = pd.read_csv(\"./bdd/boston_house_prices.csv\")\n",
    "bhp.head(2)"
   ]
  },
  {
   "cell_type": "code",
   "execution_count": null,
   "metadata": {},
   "outputs": [],
   "source": [
    "bhp.info()"
   ]
  },
  {
   "cell_type": "code",
   "execution_count": null,
   "metadata": {},
   "outputs": [],
   "source": [
    "bhp.describe()"
   ]
  },
  {
   "cell_type": "markdown",
   "metadata": {},
   "source": [
    "##### Déterminer les corrélations les plus fortes"
   ]
  },
  {
   "cell_type": "code",
   "execution_count": null,
   "metadata": {},
   "outputs": [],
   "source": [
    "# Déterminer les corrélations les plus fortes\n",
    "bhp.corrwith(bhp['MEDV'], method = 'pearson').sort_values(ascending = False)"
   ]
  },
  {
   "cell_type": "code",
   "execution_count": null,
   "metadata": {},
   "outputs": [],
   "source": [
    "#import seaborn as sns\n",
    "\n",
    "y = bhp.iloc[:,-1].values\n",
    "plt.figure(5)\n",
    "sns.set(rc={'figure.figsize':(11.7,8.27)})\n",
    "sns.distplot(y, bins=30)\n",
    "plt.show()\n",
    "\n",
    "# correlation_matrix = bhp.corr().round(2)\n",
    "# annot = True to print the values inside the square\n",
    "# sns.heatmap(data=correlation_matrix, annot=True)"
   ]
  },
  {
   "cell_type": "code",
   "execution_count": null,
   "metadata": {},
   "outputs": [],
   "source": [
    "# On affiche RM et LSTAT\n",
    "plt.figure(figsize=(20, 5))\n",
    "\n",
    "features = ['LSTAT', 'RM']\n",
    "target = bhp['MEDV']\n",
    "\n",
    "for i, col in enumerate(features):\n",
    "    plt.subplot(1, len(features) , i+1)\n",
    "    x = bhp[col]\n",
    "    y = target\n",
    "    plt.scatter(x, y, marker='o')\n",
    "    plt.title(col)\n",
    "    plt.xlabel(col)\n",
    "    plt.ylabel('MEDV')\n",
    "    \n",
    "plt.savefig('./graphiques/graph10_regLineaireMulti_BHP.png')"
   ]
  },
  {
   "cell_type": "markdown",
   "metadata": {},
   "source": [
    "Les régression les plus fortes avec MEDV : RM et LSTAT"
   ]
  },
  {
   "cell_type": "code",
   "execution_count": null,
   "metadata": {},
   "outputs": [],
   "source": [
    "# Récupération de la colonne en matrice\n",
    "x1= bhp[['RM']]\n",
    "x2= bhp[['LSTAT']]\n",
    "\n",
    "X = np.hstack((x1, x2, np.ones(x1.shape)))\n",
    "# print('shape : ',X.shape,'\\ntype : ', type(X), X[:5])\n",
    "\n",
    "y = np.array(bhp[['MEDV']])\n",
    "# print('shape : ',y.shape, y[:5])"
   ]
  },
  {
   "cell_type": "code",
   "execution_count": null,
   "metadata": {},
   "outputs": [],
   "source": [
    "# Theta de vecteur 3,1 :\n",
    "np.random.seed(0)\n",
    "theta = np.random.randn(3,1)\n",
    "theta.shape\n",
    "theta"
   ]
  },
  {
   "cell_type": "code",
   "execution_count": null,
   "metadata": {},
   "outputs": [],
   "source": [
    "# définition du modèle\n",
    "def model(X, theta):\n",
    "    return X.dot(theta)\n",
    "# test de la fonction sur X et theta, et qu'il n'y a pas d'erreur de programmation \n",
    "model(X, theta)"
   ]
  },
  {
   "cell_type": "code",
   "execution_count": null,
   "metadata": {},
   "outputs": [],
   "source": [
    "# définition de la fonction coût\n",
    "def fonction_cout (X, y, theta):\n",
    "    # varible m = à de longueur du vecteur y (autant d'exemple dans notre data)\n",
    "    m = len(y)\n",
    "    # m = le nb d'exemple dans notre dataset\n",
    "    return 1/(2*m) * np.sum((model(X, theta) - y)**2)\n",
    "\n",
    "# Test de la fonction coût\n",
    "fonction_cout (X, y, theta)"
   ]
  },
  {
   "cell_type": "code",
   "execution_count": null,
   "metadata": {},
   "outputs": [],
   "source": [
    "# Fonction gradient\n",
    "def grad(X, y, theta):\n",
    "    m = len(y)\n",
    "    # X.T = transposée de X, produit matriciel : .dot()\n",
    "    return 1/m * X.T.dot(model(X, theta) - y)\n",
    "\n",
    "grad(X, y, theta)"
   ]
  },
  {
   "cell_type": "code",
   "execution_count": null,
   "metadata": {},
   "outputs": [],
   "source": [
    "# fonction descente de gradient\n",
    "def descent_grad(X, y, theta, learning_rate, n_iterations):\n",
    "    # Variable de 0 de longueur des itération\n",
    "    cost_history = np.zeros(n_iterations)\n",
    "    for i in range(0, n_iterations):\n",
    "        theta = theta - learning_rate * grad(X, y, theta)\n",
    "        cost_history[i] = fonction_cout(X, y, theta)\n",
    "    \n",
    "    return theta, cost_history"
   ]
  },
  {
   "cell_type": "code",
   "execution_count": null,
   "metadata": {},
   "outputs": [],
   "source": [
    "# Coeff de détermination\n",
    "nbpas = 0.0007\n",
    "nbit = 900\n",
    "\n",
    "theta_final, cost_history = descent_grad(X, y, theta, learning_rate=nbpas, n_iterations=nbit)\n",
    "theta_final\n",
    "# C'est un vecteur avec a et b "
   ]
  },
  {
   "cell_type": "code",
   "execution_count": null,
   "metadata": {},
   "outputs": [],
   "source": [
    "#from mpl_toolkits.mplot3d import Axes3D"
   ]
  },
  {
   "cell_type": "code",
   "execution_count": null,
   "metadata": {},
   "outputs": [],
   "source": [
    "# Courbe fonction coût selon les itérations : \n",
    "y_predictions = model(X, theta_final)"
   ]
  },
  {
   "cell_type": "code",
   "execution_count": null,
   "metadata": {
    "scrolled": true
   },
   "outputs": [],
   "source": [
    "\n",
    "ax = plt.axes(projection='3d')\n",
    "ax.scatter(x1, x2, y, c=y, label=\"nuage de points x/y\")\n",
    "ax.scatter(x1, x2, y_predictions, c='b', label=\"nuage de points modèle\")\n",
    "\n",
    "# titres et labels\n",
    "plt.title(\"Régression linéaire multiple - courbe de la fonction coût - boston_house_prices.csv\")\n",
    "plt.legend()\n",
    "plt.xlabel(\"RM\")\n",
    "plt.ylabel(\"LSTAT\")\n",
    "plt.savefig('./graphiques/graph11_3DregLineaireMulti_model.png')"
   ]
  },
  {
   "cell_type": "code",
   "execution_count": null,
   "metadata": {
    "scrolled": true
   },
   "outputs": [],
   "source": [
    "# On affiche RM et LSTAT\n",
    "plt.figure(figsize=(20, 5))\n",
    "\n",
    "features = ['LSTAT', 'RM']\n",
    "target = bhp['MEDV']\n",
    "\n",
    "for i, col in enumerate(features):\n",
    "    plt.subplot(1, len(features) , i+1)\n",
    "    x = bhp[col]\n",
    "    y = target\n",
    "    plt.scatter(x, y, marker='o', label=\"nuage de points x/y\")\n",
    "    plt.scatter(x, y_predictions, c='r', label=\"nuage de points modèle\")\n",
    "    plt.legend()\n",
    "    plt.title(col)\n",
    "    plt.xlabel(col)\n",
    "    plt.ylabel('MEDV')\n",
    "    \n",
    "plt.savefig('./graphiques/graph12_regLineaireMulti_model.png')"
   ]
  },
  {
   "cell_type": "code",
   "execution_count": null,
   "metadata": {},
   "outputs": [],
   "source": [
    "# Courbe de contrôle cost_history\n",
    "plt.plot(range(nbit), cost_history)\n",
    "\n",
    "# titres et labels\n",
    "plt.title(\"Régression linéaire simple - Courbe de contrôle cost_history - boston_house_prices.csv\")\n",
    "plt.xlabel(\"nombre d'itération\")\n",
    "plt.ylabel(\"cost_history\")\n",
    "plt.savefig('./graphiques/graph13_regLineaireMulti_boston_house_prices.png')"
   ]
  },
  {
   "cell_type": "markdown",
   "metadata": {},
   "source": [
    "##### 2.2 - Évaluez les résultats obtenus en utilisant la fonction mean_squared_error de sklearn"
   ]
  },
  {
   "cell_type": "code",
   "execution_count": null,
   "metadata": {
    "scrolled": true
   },
   "outputs": [],
   "source": [
    "#from sklearn.metrics import mean_squared_error, mean_absolute_error, r2_score\n",
    "mse = mean_squared_error(y, y_predictions)\n",
    "print(\"MSE= \", mse)\n",
    "# mae = mean_absolute_error(y_test, y_pred)\n",
    "sc=r2_score(y, y_predictions)\n",
    "print(\"Score= \", sc)"
   ]
  },
  {
   "cell_type": "markdown",
   "metadata": {},
   "source": [
    "### 2.3 ***<u>Scikit-Learn</u>*** :Régression linéaire multiple de boston_house_prices.csv "
   ]
  },
  {
   "cell_type": "code",
   "execution_count": null,
   "metadata": {},
   "outputs": [],
   "source": [
    "#bibliothèques sklearn\n",
    "from sklearn.metrics import mean_squared_error, r2_score\n",
    "from sklearn.preprocessing import StandardScaler\n",
    "from sklearn.model_selection import train_test_split\n",
    "from sklearn.linear_model import LinearRegression, LogisticRegression\n"
   ]
  },
  {
   "cell_type": "code",
   "execution_count": null,
   "metadata": {},
   "outputs": [],
   "source": [
    "# Récupération de la colonne en matrice\n",
    "x1= bhp[['RM']]\n",
    "x2= bhp[['LSTAT']]\n",
    "X = np.hstack((x1, x2, np.ones(x1.shape)))\n",
    "print('shape : ',X.shape,'\\ntype : ', type(X), X[:5])\n",
    "\n",
    "y = np.array(bhp[['MEDV']])\n",
    "print('shape : ',y.shape, y[:5])"
   ]
  },
  {
   "cell_type": "markdown",
   "metadata": {},
   "source": [
    "Fractionnement du jeu de données en jeu d'entraînement et jeu de test (20% pour le test)"
   ]
  },
  {
   "cell_type": "code",
   "execution_count": null,
   "metadata": {},
   "outputs": [],
   "source": [
    "#from sklearn.model_selection import train_test_split\n",
    "X_train, X_test, y_train, y_test = train_test_split(X, y, test_size = 0.2, random_state = 0)"
   ]
  },
  {
   "cell_type": "markdown",
   "metadata": {},
   "source": [
    "Standarisastion des variables d'entrainement et de test"
   ]
  },
  {
   "cell_type": "code",
   "execution_count": null,
   "metadata": {},
   "outputs": [],
   "source": [
    "#from sklearn.preprocessing import StandardScaler\n",
    "sc_X = StandardScaler()\n",
    "X_train = sc_X.fit_transform(X_train)\n",
    "X_test = sc_X.transform(X_test)\n",
    "# X_train, X_test"
   ]
  },
  {
   "cell_type": "markdown",
   "metadata": {},
   "source": [
    "Créer du modèle LinearRegression multiple et entraînez le sur les données d'entraînement"
   ]
  },
  {
   "cell_type": "code",
   "execution_count": null,
   "metadata": {},
   "outputs": [],
   "source": [
    "#from sklearn.linear_model import LinearRegression\n",
    "regressor = LinearRegression()\n",
    "regressor.fit(X_train, y_train)"
   ]
  },
  {
   "cell_type": "markdown",
   "metadata": {},
   "source": [
    "Predire les résultats du modèle sur l'ensemble du test"
   ]
  },
  {
   "cell_type": "code",
   "execution_count": null,
   "metadata": {},
   "outputs": [],
   "source": [
    "y_pred_train = regressor.predict(X_train)\n",
    "y_pred_test = regressor.predict(X_test)"
   ]
  },
  {
   "cell_type": "markdown",
   "metadata": {},
   "source": [
    "Visualisation des résultats du modèle sur les données d'entraînement en 3D avec les deux variable R&D Spend et Marketing Spend"
   ]
  },
  {
   "cell_type": "code",
   "execution_count": null,
   "metadata": {},
   "outputs": [],
   "source": [
    "#from mpl_toolkits.mplot3d import Axes3D\n",
    "\n",
    "fig= plt.figure()\n",
    "ax=fig.add_subplot(111,projection='3d')\n",
    "plt.xlabel(\"X_train[:,0]\")\n",
    "plt.ylabel(\"y_train\")\n",
    "ax.scatter(X_train[:,0],X_train[:,2],y_train, label=\"train\")\n",
    "ax.scatter(X_train[:,0],X_train[:,2],y_pred_train,color = 'yellow', label=\"pred train\")\n",
    "\n",
    "# titres et labels\n",
    "plt.title(\"Régression linéaire multiple - modele sur le jeu train - boston_house_prices.csv\")\n",
    "plt.legend()\n",
    "\n",
    "plt.savefig('./graphiques/graph14_3DregLineaireMultiSklearn_model_xtrain.png')"
   ]
  },
  {
   "cell_type": "markdown",
   "metadata": {},
   "source": [
    "Visualisation des résultats du modèle sur les données de test en 3D avec les deux variable R&D Spend et Marketing Spend"
   ]
  },
  {
   "cell_type": "code",
   "execution_count": null,
   "metadata": {},
   "outputs": [],
   "source": [
    "#from mpl_toolkits.mplot3d import Axes3D\n",
    "# %matplotlib notebook\n",
    "fig= plt.figure()\n",
    "ax=fig.add_subplot(111,projection='3d')\n",
    "plt.xlabel(\"X_test[:,0]\")\n",
    "plt.ylabel(\"y_test\")\n",
    "ax.scatter(X_test[:,0],X_test[:,2],y_test, label=\"test\")\n",
    "ax.scatter(X_test[:,0],X_test[:,2],y_pred_test,color = 'yellow', label=\"pred test\")\n",
    "\n",
    "# titres et labels\n",
    "plt.title(\"Régression linéaire multiple - modele sur le jeu test - boston_house_prices.csv\")\n",
    "plt.legend()\n",
    "\n",
    "plt.savefig('./graphiques/graph15_3DregLineaireMultiSklearn_model_xtest.png')"
   ]
  },
  {
   "cell_type": "markdown",
   "metadata": {},
   "source": [
    "Evaluez votre modèle par le mean_squared_error"
   ]
  },
  {
   "cell_type": "code",
   "execution_count": null,
   "metadata": {},
   "outputs": [],
   "source": [
    "mse2 = mean_squared_error(y_test, y_pred_test)\n",
    "print(mse2)"
   ]
  },
  {
   "cell_type": "code",
   "execution_count": null,
   "metadata": {},
   "outputs": [],
   "source": [
    "sc=r2_score(y_test, y_pred_test)\n",
    "print(\"Score= \", sc)"
   ]
  },
  {
   "cell_type": "code",
   "execution_count": null,
   "metadata": {},
   "outputs": [],
   "source": []
  },
  {
   "cell_type": "markdown",
   "metadata": {},
   "source": [
    "### 3. Régression Polynomiale :"
   ]
  },
  {
   "cell_type": "markdown",
   "metadata": {},
   "source": [
    "##### 3.1 - En utilisant les bibliothèques adéquates de Python, implémentez un modèle de régression polynomiale sur le jeu de données issu du fichier **Position_Salaries.csv **(sans utiliser la bibliothèque Scikit-learn)."
   ]
  },
  {
   "cell_type": "code",
   "execution_count": null,
   "metadata": {},
   "outputs": [],
   "source": [
    "import pandas as pd\n",
    "import numpy as np\n",
    "import scipy as sp\n",
    "# biliothèques graphiques\n",
    "import matplotlib.pyplot as plt\n",
    "#bibliothèques sklearn\n",
    "from sklearn.metrics import mean_squared_error, r2_score\n"
   ]
  },
  {
   "cell_type": "code",
   "execution_count": null,
   "metadata": {},
   "outputs": [],
   "source": [
    "position_salaire = pd.read_csv(\"./bdd/Position_Salaries.csv\")\n",
    "position_salaire.head(5)"
   ]
  },
  {
   "cell_type": "code",
   "execution_count": null,
   "metadata": {},
   "outputs": [],
   "source": [
    "print('shape : ',reg_simple.shape)\n",
    "position_salaire.info()"
   ]
  },
  {
   "cell_type": "code",
   "execution_count": null,
   "metadata": {},
   "outputs": [],
   "source": [
    "plt.scatter(position_salaire['Level'], position_salaire['Salary'])\n",
    "# titres et labels\n",
    "plt.title(\"courbe x/y - position_salaire.csv\")\n",
    "plt.xlabel(\"Level\")\n",
    "plt.ylabel(\"Salary\")\n",
    "plt.savefig('./graphiques/graph20_3DregPoly_model.png')"
   ]
  },
  {
   "cell_type": "code",
   "execution_count": null,
   "metadata": {},
   "outputs": [],
   "source": [
    "# Récupération de la colonne en matrice\n",
    "x = position_salaire[['Level']]\n",
    "# carré : x**2 ou x.pow(2)\n",
    "X = np.hstack((x**2, x, np.ones(x.shape)))\n",
    "print('shape : ', X.shape, X[:3])\n"
   ]
  },
  {
   "cell_type": "code",
   "execution_count": null,
   "metadata": {},
   "outputs": [],
   "source": [
    "y = np.array(position_salaire[['Salary']])\n",
    "print('shape : ',y.shape, y[:5])"
   ]
  },
  {
   "cell_type": "code",
   "execution_count": null,
   "metadata": {},
   "outputs": [],
   "source": [
    "# Theta de vecteur 3,1 :\n",
    "np.random.seed(0)\n",
    "theta = np.random.randn(3,1)\n",
    "theta"
   ]
  },
  {
   "cell_type": "code",
   "execution_count": null,
   "metadata": {},
   "outputs": [],
   "source": [
    "# définition du modèle\n",
    "def model(X, theta):\n",
    "    return X.dot(theta)\n",
    "\n",
    "# test de la fonction sur X et theta, et qu'il n'y a pas d'erreur de programmation \n",
    "model(X, theta)[:3]"
   ]
  },
  {
   "cell_type": "code",
   "execution_count": null,
   "metadata": {},
   "outputs": [],
   "source": [
    "# plt.scatter(x,y)\n",
    "plt.scatter(position_salaire['Level'], position_salaire['Salary'], label=\"courbe x/y\")\n",
    "\n",
    "# Vérification du modèle avec matplotlib\n",
    "# afficher le résultat du modèle par rapport à notre dataset x\n",
    "plt.scatter(x, model(X, theta), c='red', label=\"Courbe du modèle\")\n",
    "\n",
    "# titres et labels\n",
    "plt.title(\"Régression Polynomiale - Vérification du modèle - Position_Salaries.csv\")\n",
    "plt.legend()\n",
    "plt.xlabel(\"Level\")\n",
    "plt.ylabel(\"Salary\")\n",
    "# sauvegarde :\n",
    "plt.savefig('./graphiques/graph21_regPolynomiale_verif_model_Position_Salaries.png')\n"
   ]
  },
  {
   "cell_type": "code",
   "execution_count": null,
   "metadata": {},
   "outputs": [],
   "source": [
    "# définition de la fonction coût\n",
    "def fonction_cout (X, y, theta):\n",
    "    m = len(y)\n",
    "    return 1/(2*m) * np.sum((model(X, theta) - y)**2)\n",
    "# Test de la fonction\n",
    "fonction_cout (X, y, theta)"
   ]
  },
  {
   "cell_type": "code",
   "execution_count": null,
   "metadata": {},
   "outputs": [],
   "source": [
    "# gradient\n",
    "def grad(X, y, theta):\n",
    "    m = len(y)\n",
    "    # X.T = transposée de X, produit matriciel : .dot()\n",
    "    return 1/m * X.T.dot(model(X, theta) - y)\n",
    "\n",
    "grad(X, y, theta)"
   ]
  },
  {
   "cell_type": "code",
   "execution_count": null,
   "metadata": {},
   "outputs": [],
   "source": [
    "# descente de gradient\n",
    "def descent_grad(X, y, theta, learning_rate, n_iterations):\n",
    "    # Variable de 0 de longueur des itération\n",
    "    cost_history = np.zeros(n_iterations)\n",
    "    for i in range(0, n_iterations):\n",
    "        theta = theta - learning_rate * grad(X, y, theta)\n",
    "        cost_history[i] = fonction_cout(X, y, theta)\n",
    "    \n",
    "    return theta, cost_history"
   ]
  },
  {
   "cell_type": "code",
   "execution_count": null,
   "metadata": {},
   "outputs": [],
   "source": [
    "# Evaluation du modèle en utilisant le coefficient de détermination\n",
    "learning_rate = 0.00001\n",
    "n_iterations = 200\n",
    "theta_final, cost_history = descent_grad(X, y, theta, learning_rate, n_iterations)\n",
    "theta_final"
   ]
  },
  {
   "cell_type": "code",
   "execution_count": null,
   "metadata": {},
   "outputs": [],
   "source": [
    "# Traçage de la courbe de la fonction du coût selon les itérations\n",
    "predictions = model(X, theta_final)\n",
    "# plt.scatter(x, y)\n",
    "plt.scatter(position_salaire['Level'], position_salaire['Salary'], label=\"Courbe x/y\")\n",
    "plt.plot(x, predictions, c='r', label=\"Courbe du modèle\")\n",
    "\n",
    "# titres et labels\n",
    "plt.title(\"Régression Polynomiale - courbe de la fonction coût - Position_Salaries.csv\")\n",
    "plt.legend()\n",
    "plt.xlabel(\"Level\")\n",
    "plt.ylabel(\"Salary\")\n",
    "# sauvegarde :\n",
    "plt.savefig('./graphiques/graph22_regPolynomiale_model_Position_Salaries.png')\n"
   ]
  },
  {
   "cell_type": "code",
   "execution_count": null,
   "metadata": {},
   "outputs": [],
   "source": [
    "# Courbe de contrôle cost_history\n",
    "plt.plot(range(n_iterations), cost_history)\n",
    "\n",
    "# titres et labels\n",
    "plt.title(\"Régression Polynomiale - Courbe de contrôle cost_history - Position_Salaries.csv\")\n",
    "plt.xlabel(\"nombre d'itération\")\n",
    "plt.ylabel(\"cost_history\")\n",
    "plt.savefig('./graphiques/graph23_regPolynomiale_Position_Salaries_contrôle.png')"
   ]
  },
  {
   "cell_type": "markdown",
   "metadata": {},
   "source": [
    "##### 3.1b - Évaluation du modèle : Position_Salaries"
   ]
  },
  {
   "cell_type": "code",
   "execution_count": null,
   "metadata": {},
   "outputs": [],
   "source": [
    "# Coeff de détermination : plus il est proche de 1, plus il proche de 1, plus il est efficace\n",
    "def coef_determination(y, pred):\n",
    "    u = ((y - pred)**2).sum()\n",
    "    v = ((y - y.mean())**2).sum()\n",
    "    return 1 - u/v\n",
    "\n",
    "coef_determination(y, predictions)"
   ]
  },
  {
   "cell_type": "code",
   "execution_count": null,
   "metadata": {},
   "outputs": [],
   "source": [
    "#from sklearn.metrics import mean_squared_error, mean_absolute_error, r2_score\n",
    "mse = mean_squared_error(y, predictions)\n",
    "print(\"MSE= \", mse)\n",
    "sc=r2_score(y_test, y_pred_test)\n",
    "print(\"Score= \", sc)"
   ]
  },
  {
   "cell_type": "markdown",
   "metadata": {},
   "source": [
    "### 3.1c **<u>Scikit-Learn</u>** :Régression polynomiale de Position_Salaire.csv "
   ]
  },
  {
   "cell_type": "code",
   "execution_count": null,
   "metadata": {},
   "outputs": [],
   "source": [
    "#bibliothèques sklearn\n",
    "from sklearn.metrics import mean_squared_error, r2_score\n",
    "from sklearn.linear_model import LinearRegression\n",
    "from sklearn.preprocessing import PolynomialFeatures"
   ]
  },
  {
   "cell_type": "code",
   "execution_count": null,
   "metadata": {},
   "outputs": [],
   "source": [
    "# Récupération de la colonne en matrice\n",
    "X = position_salaire[['Level']].values\n",
    "# carré : x**2 ou x.pow(2)\n",
    "#X = np.hstack((x**2, x, np.ones(x.shape)))\n",
    "print('shape : ', X.shape, X[:3])\n",
    "y = np.array(position_salaire[['Salary']])\n",
    "print('shape : ',y.shape, y[:5])"
   ]
  },
  {
   "cell_type": "markdown",
   "metadata": {},
   "source": [
    "Créer votre modèle LinearRegression et entraînez le sur le jeu de données"
   ]
  },
  {
   "cell_type": "code",
   "execution_count": null,
   "metadata": {},
   "outputs": [],
   "source": [
    "#from sklearn.linear_model import LinearRegression\n",
    "lin_reg = LinearRegression()\n",
    "lin_reg.fit(x, y)"
   ]
  },
  {
   "cell_type": "markdown",
   "metadata": {},
   "source": [
    "Visualisation des résultats du modèle LinearRegression sur le jeu de données"
   ]
  },
  {
   "cell_type": "code",
   "execution_count": null,
   "metadata": {},
   "outputs": [],
   "source": [
    "# Visualising the Linear Regression results\n",
    "plt.scatter(x, y, color = 'red', label=\"courbe x/y\")\n",
    "plt.plot(x, lin_reg.predict(x), color = 'blue', label=\"courbe du mocèle\")\n",
    "#plt.title('Linear Regression')\n",
    "#plt.xlabel('Position level')\n",
    "#plt.ylabel('Salary')\n",
    "\n",
    "# titres et labels\n",
    "plt.title(\"Régression Polynomiale - \\ncourbe modele en regression lineaire - Position_Salaries.csv\")\n",
    "plt.legend()\n",
    "plt.xlabel(\"Level\")\n",
    "plt.ylabel(\"Salary\")\n",
    "# sauvegarde :\n",
    "plt.savefig('./graphiques/graph24_regPolynomiale_model_Position_Salaries.png')\n",
    "\n",
    "plt.show()"
   ]
  },
  {
   "cell_type": "markdown",
   "metadata": {},
   "source": [
    "Créer votre modèle Regression polynomiale et entraînez le sur le jeu de données, essayer avec différentes valeurs pour le degré (1..5). Visualiser dans la même figure les rélutats du modèle pour les différents degrés. Quelle est la meilleure valeur pour le degré ?"
   ]
  },
  {
   "cell_type": "code",
   "execution_count": null,
   "metadata": {
    "scrolled": true
   },
   "outputs": [],
   "source": [
    "#from sklearn.preprocessing import PolynomialFeatures\n",
    "\n",
    "colors=['blue','yellow','green','pink','black']\n",
    "plt.scatter(X, y, color = 'red')\n",
    "\n",
    "# print(X)\n",
    "# print(y)\n",
    "plt.title('Polynomial Regression Sklearn - Position_Salaries')\n",
    "plt.xlabel('Level')\n",
    "plt.ylabel('Salary')\n",
    "for i in range(1,5):\n",
    "\n",
    "    poly_reg = PolynomialFeatures(degree = i)\n",
    "    X_poly = poly_reg.fit_transform(X)\n",
    "    poly_reg.fit(X_poly, y)\n",
    "    lin_reg_2 = LinearRegression()\n",
    "    lin_reg_2.fit(X_poly, y)\n",
    "    y_pred = lin_reg_2.predict(poly_reg.fit_transform(X))    \n",
    "    plt.plot(X, lin_reg_2.predict(poly_reg.fit_transform(X)), color = colors[i-1],label='degre: %s' %i)\n",
    "    \n",
    "    mse = mean_squared_error(y, y_pred)\n",
    "    sc=r2_score(y, y_pred)\n",
    "\n",
    "    print(\"degré =\",i, \", mse2=\", mse2, \" Score= \", sc)     \n",
    "   \n",
    "plt.legend() \n",
    "plt.savefig('./graphiques/graph25_regPolynomiale_Sklearn_Position_Salaries.png')\n",
    "\n",
    "plt.show()"
   ]
  },
  {
   "cell_type": "markdown",
   "metadata": {},
   "source": [
    "Faire la prédiction de la valeur 6 avec le modèle de régression linéaire simple et de régression polynomiale, qu'est ce que vous remarquez ?"
   ]
  },
  {
   "cell_type": "code",
   "execution_count": null,
   "metadata": {},
   "outputs": [],
   "source": [
    "valeur=np.array([6]).reshape(-1, 1)\n",
    "\n",
    "# Predicting a new result with Linear Regression\n",
    "\n",
    "print('Predicting a new result with Linear Regression')\n",
    "print(lin_reg.predict(valeur))\n",
    "\n",
    "\n",
    "print(\"=========================================================\")\n",
    "# Predicting a new result with Polynomial Regression\n",
    "\n",
    "print('Predicting a new result with Polynomial Regression')\n",
    "print(lin_reg_2.predict(poly_reg.fit_transform(valeur)))"
   ]
  },
  {
   "cell_type": "code",
   "execution_count": null,
   "metadata": {},
   "outputs": [],
   "source": []
  },
  {
   "cell_type": "markdown",
   "metadata": {},
   "source": [
    "##### 3.2 - Appliquez le même modèle sur le jeu de données issu du fichier data/qualite_vin_rouge.csv"
   ]
  },
  {
   "cell_type": "code",
   "execution_count": null,
   "metadata": {},
   "outputs": [],
   "source": [
    "import pandas as pd\n",
    "import numpy as np\n",
    "import scipy as sp\n",
    "# biliothèques graphiques\n",
    "import matplotlib.pyplot as plt\n",
    "#bibliothèques sklearn\n",
    "from sklearn.metrics import mean_squared_error, r2_score\n"
   ]
  },
  {
   "cell_type": "code",
   "execution_count": null,
   "metadata": {},
   "outputs": [],
   "source": [
    "qvr = pd.read_csv(\"./bdd/qualite-vin-rouge.csv\")\n",
    "qvr.head(5)"
   ]
  },
  {
   "cell_type": "code",
   "execution_count": null,
   "metadata": {},
   "outputs": [],
   "source": [
    "qvr.info()"
   ]
  },
  {
   "cell_type": "code",
   "execution_count": null,
   "metadata": {},
   "outputs": [],
   "source": [
    "qvr.describe()"
   ]
  },
  {
   "cell_type": "code",
   "execution_count": null,
   "metadata": {},
   "outputs": [],
   "source": [
    "# Déterminer les corrélations les plus fortes\n",
    "qvr.corrwith(qvr['qualité'], method = 'pearson').sort_values(ascending = False)"
   ]
  },
  {
   "cell_type": "code",
   "execution_count": null,
   "metadata": {},
   "outputs": [],
   "source": [
    "# Récupération de la colonne en matrice\n",
    "x = qvr[['alcool']]\n",
    "# carré : x**2 ou x.pow(2)\n",
    "X = np.hstack((x**2, x, np.ones(x.shape)))\n",
    "print('shape : ', X.shape, X[:3])"
   ]
  },
  {
   "cell_type": "code",
   "execution_count": null,
   "metadata": {},
   "outputs": [],
   "source": [
    "y = np.array(qvr[['qualité']])\n",
    "print('shape : ',y.shape, y[:5])"
   ]
  },
  {
   "cell_type": "code",
   "execution_count": null,
   "metadata": {},
   "outputs": [],
   "source": [
    "plt.scatter(qvr['alcool'], qvr['qualité'])\n",
    "# titres et labels\n",
    "plt.title(\"courbe x/y - qualite-vin-rouge.csv\")\n",
    "plt.xlabel(\"alcool\")\n",
    "plt.ylabel(\"qualité\")\n",
    "plt.savefig('./graphiques/graph40_courbe_x-y_qualite-vin-rouge.png')\n",
    "plt.show()"
   ]
  },
  {
   "cell_type": "code",
   "execution_count": null,
   "metadata": {},
   "outputs": [],
   "source": [
    "np.random.seed(0)\n",
    "theta = np.random.randn(3,1)\n",
    "theta"
   ]
  },
  {
   "cell_type": "code",
   "execution_count": null,
   "metadata": {},
   "outputs": [],
   "source": [
    "# définition du modèle\n",
    "def model(X, theta):\n",
    "    return X.dot(theta)\n",
    "\n",
    "# test de la fonction sur X et theta, et qu'il n'y a pas d'erreur de programmation \n",
    "model(X, theta)[:3]"
   ]
  },
  {
   "cell_type": "code",
   "execution_count": null,
   "metadata": {},
   "outputs": [],
   "source": [
    "# plt.scatter(x,y)\n",
    "plt.scatter(qvr['alcool'], qvr['qualité'], label=\"courbe x/y\")\n",
    "\n",
    "# Vérification du modèle avec matplotlib\n",
    "# afficher le résultat du modèle par rapport à notre dataset x\n",
    "plt.scatter(x, model(X, theta), c='red', label=\"Courbe du modèle\")\n",
    "\n",
    "# titres et labels\n",
    "plt.title(\"Régression Polynomiale - \\nVérification du modèle - qualite-vin-rouge.csv\")\n",
    "plt.legend()\n",
    "plt.xlabel(\"alcool\")\n",
    "plt.ylabel(\"qualité\")\n",
    "plt.savefig('./graphiques/graph41_regPolynomiale_verif_model_qualite-vin-rouge.png')"
   ]
  },
  {
   "cell_type": "code",
   "execution_count": null,
   "metadata": {},
   "outputs": [],
   "source": [
    "# l'erreur chromatique moyenne\n",
    "# définition de la fonction\n",
    "def fonction_cout (X, y, theta):\n",
    "    # varible m = à de longueur du vecteur y (autant d'exemple dans notre data)\n",
    "    m = len(y)\n",
    "    # m = le nb d'exemple dans notre dataset\n",
    "    return 1/(2*m) * np.sum((model(X, theta) - y)**2)\n",
    "\n",
    "# Test de la fonction\n",
    "fonction_cout (X, y, theta)"
   ]
  },
  {
   "cell_type": "code",
   "execution_count": null,
   "metadata": {},
   "outputs": [],
   "source": [
    "def descent_grad(X, y, theta, learning_rate, n_iterations):\n",
    "    # Variable de 0 de longueur des itération\n",
    "    cost_history = np.zeros(n_iterations)\n",
    "    for i in range(0, n_iterations):\n",
    "        theta = theta - learning_rate * grad(X, y, theta)\n",
    "        cost_history[i] = fonction_cout(X, y, theta)\n",
    "    \n",
    "    return theta, cost_history"
   ]
  },
  {
   "cell_type": "code",
   "execution_count": null,
   "metadata": {},
   "outputs": [],
   "source": [
    "learning_rate = 0.00001\n",
    "n_iterations = 50\n",
    "theta_final, cost_history = descent_grad(X, y, theta, learning_rate, n_iterations)\n",
    "theta_final"
   ]
  },
  {
   "cell_type": "code",
   "execution_count": null,
   "metadata": {},
   "outputs": [],
   "source": [
    "# Traçage de la courbe de la fonction du coût selon les itérations\n",
    "predictions = model(X, theta_final)\n",
    "plt.scatter(qvr['alcool'], qvr['qualité'], label=\"Courbe x/y\")\n",
    "plt.scatter(x, predictions, c='r', label=\"Courbe du modèle\")\n",
    "\n",
    "# titres et labels\n",
    "plt.title(\"Régression Polynomiale - \\ncourbe de la fonction coût - qualite-vin-rouge.csv\")\n",
    "plt.legend()\n",
    "plt.xlabel(\"alcool\")\n",
    "plt.ylabel(\"qualité\")\n",
    "plt.savefig('./graphiques/graph42_regPolynomiale_model_qualite-vin-rouge.png')"
   ]
  },
  {
   "cell_type": "code",
   "execution_count": null,
   "metadata": {},
   "outputs": [],
   "source": [
    "# Courbe de contrôle cost_history\n",
    "plt.plot(range(n_iterations), cost_history)\n",
    "\n",
    "\n",
    "# titres et labels\n",
    "plt.title(\"Régression Polynomiale - Courbe de contrôle cost_history - qualite-vin-rouge.csv\")\n",
    "plt.xlabel(\"nombre d'itération\")\n",
    "plt.ylabel(\"cost_history\")\n",
    "plt.savefig('./graphiques/graph43_regLineaire_contrôle qualite-vin-rouge.png')"
   ]
  },
  {
   "cell_type": "markdown",
   "metadata": {},
   "source": [
    "##### 3.3 - Évaluation du modèle : qualite-vin-rouge"
   ]
  },
  {
   "cell_type": "code",
   "execution_count": null,
   "metadata": {},
   "outputs": [],
   "source": [
    "# Coeff de détermination : plus il est proche de 1, plus il proche de 1, plus il est efficace\n",
    "def coef_determination(y, pred):\n",
    "    u = ((y - pred)**2).sum()\n",
    "    v = ((y - y.mean())**2).sum()\n",
    "    return 1 - u/v\n",
    "\n",
    "coef_determination(y, predictions)"
   ]
  },
  {
   "cell_type": "code",
   "execution_count": null,
   "metadata": {},
   "outputs": [],
   "source": [
    "#from sklearn.metrics import mean_squared_error\n",
    "mse = mean_squared_error(y, predictions)\n",
    "print(\"MSE= \", mse)\n",
    "sc=r2_score(y_test, y_pred_test)\n",
    "print(\"Score= \", sc)"
   ]
  },
  {
   "cell_type": "markdown",
   "metadata": {},
   "source": [
    " => la qualité est une valeur qualitative et non quantitative\n"
   ]
  },
  {
   "cell_type": "markdown",
   "metadata": {},
   "source": [
    "### 3.2***<u>Scikit-Learn</u>*** :Régression polynomiale de qualite_vin_rouge.csv "
   ]
  },
  {
   "cell_type": "code",
   "execution_count": null,
   "metadata": {},
   "outputs": [],
   "source": [
    "#bibliothèques sklearn\n",
    "from sklearn.metrics import mean_squared_error, r2_score\n",
    "from sklearn.linear_model import LinearRegression\n",
    "from sklearn.preprocessing import PolynomialFeatures"
   ]
  },
  {
   "cell_type": "code",
   "execution_count": null,
   "metadata": {},
   "outputs": [],
   "source": [
    "# Récupération de la colonne en matrice\n",
    "x = position_salaire[['Level']]\n",
    "# carré : x**2 ou x.pow(2)\n",
    "X = np.hstack((x**2, x, np.ones(x.shape)))\n",
    "print('shape : ', X.shape, X[:3])\n",
    "y = np.array(position_salaire[['Salary']])\n",
    "print('shape : ',y.shape, y[:5])"
   ]
  },
  {
   "cell_type": "code",
   "execution_count": null,
   "metadata": {},
   "outputs": [],
   "source": [
    "# Récupération de la colonne en matrice\n",
    "X = qvr[['alcool']].values\n",
    "# carré : x**2 ou x.pow(2)\n",
    "#X = np.hstack((x**2, x, np.ones(x.shape)))\n",
    "print('shape : ', X.shape, X[:3])\n",
    "\n",
    "y = qvr[['qualité']].values\n",
    "print('shape : ',y.shape, y[:5])"
   ]
  },
  {
   "cell_type": "markdown",
   "metadata": {},
   "source": [
    "Créer votre modèle LinearRegression et entraînez le sur le jeu de données"
   ]
  },
  {
   "cell_type": "code",
   "execution_count": null,
   "metadata": {},
   "outputs": [],
   "source": [
    "#from sklearn.linear_model import LinearRegression\n",
    "lin_reg = LinearRegression()\n",
    "lin_reg.fit(X, y)"
   ]
  },
  {
   "cell_type": "markdown",
   "metadata": {},
   "source": [
    "Visualisation des résultats du modèle LinearRegression sur le jeu de données"
   ]
  },
  {
   "cell_type": "code",
   "execution_count": null,
   "metadata": {},
   "outputs": [],
   "source": [
    "# Visualising the Linear Regression results\n",
    "plt.scatter(X, y, color = 'b', label=\"courbe x/y\")\n",
    "plt.plot(X, lin_reg.predict(X), color = 'r', label=\"courbe du mocèle\")\n",
    "\n",
    "# titres et labels\n",
    "plt.title(\"Régression Polynomiale - \\ncourbe modele en regression lineaire - qualite-vin-rouge.csv\")\n",
    "plt.legend()\n",
    "plt.xlabel(\"alcool\")\n",
    "plt.ylabel(\"qualité\")\n",
    "# sauvegarde :\n",
    "plt.savefig('./graphiques/graph44_regPolynomiale_model_qualite-vin-rouge.png')\n",
    "\n",
    "plt.show()"
   ]
  },
  {
   "cell_type": "markdown",
   "metadata": {},
   "source": [
    "Créer votre modèle Regression polynomiale et entraînez le sur le jeu de données, essayer avec différentes valeurs pour le degré (1..5). Visualiser dans la même figure les rélutats du modèle pour les différents degrés. Quelle est la meilleure valeur pour le degré ?"
   ]
  },
  {
   "cell_type": "code",
   "execution_count": null,
   "metadata": {},
   "outputs": [],
   "source": [
    "poly_reg = PolynomialFeatures(degree = i)\n",
    "X_poly = poly_reg.fit_transform(X)\n",
    "poly_reg.fit(X_poly, y)\n",
    "lin_reg_2 = LinearRegression()\n",
    "lin_reg_2.fit(X_poly, y)\n",
    "y_pred = lin_reg_2.predict(poly_reg.fit_transform(X))"
   ]
  },
  {
   "cell_type": "code",
   "execution_count": null,
   "metadata": {
    "scrolled": true
   },
   "outputs": [],
   "source": [
    "#from sklearn.preprocessing import PolynomialFeatures\n",
    "\n",
    "colors=['blue','yellow','green','pink','black']\n",
    "plt.scatter(X, y, color = 'red')\n",
    "\n",
    "# print(X)\n",
    "# print(y)\n",
    "plt.title('Polynomial Regression qualite-vin-rouge')\n",
    "plt.xlabel('alcool')\n",
    "plt.ylabel('qualité')\n",
    "#mse = []\n",
    "for i in range(1,5):\n",
    "\n",
    "    poly_reg = PolynomialFeatures(degree = i)\n",
    "    X_poly = poly_reg.fit_transform(X)\n",
    "    poly_reg.fit(X_poly, y)\n",
    "    lin_reg_2 = LinearRegression()\n",
    "    lin_reg_2.fit(X_poly, y)\n",
    "    y_pred = lin_reg_2.predict(poly_reg.fit_transform(X))\n",
    "    plt.scatter(X, lin_reg_2.predict(poly_reg.fit_transform(X)), color = colors[i-1],label='degre: %s' %i)\n",
    "    \n",
    "    mse = mean_squared_error(y, y_pred)\n",
    "    sc=r2_score(y, y_pred)\n",
    "\n",
    "    print(\"degré =\",i, \", mse2=\", mse2, \" Score= \", sc)\n",
    "     \n",
    "    \n",
    "plt.legend() \n",
    "plt.savefig('./graphiques/graph45_regPolynomiale_Sklearn_Qualite_vin-rouge.png')\n",
    "\n",
    "plt.show()"
   ]
  },
  {
   "cell_type": "markdown",
   "metadata": {},
   "source": [
    "Faire la prédiction de la valeur 6 avec le modèle de régression linéaire simple et de régression polynomiale, qu'est ce que vous remarquez ?"
   ]
  },
  {
   "cell_type": "code",
   "execution_count": null,
   "metadata": {},
   "outputs": [],
   "source": [
    "valeur=np.array([6]).reshape(-1, 1)\n",
    "\n",
    "# Predicting a new result with Linear Regression\n",
    "\n",
    "print('Predicting a new result with Linear Regression')\n",
    "print(lin_reg.predict(valeur))\n",
    "\n",
    "\n",
    "print(\"=========================================================\")\n",
    "# Predicting a new result with Polynomial Regression\n",
    "\n",
    "print('Predicting a new result with Polynomial Regression')\n",
    "print(lin_reg_2.predict(poly_reg.fit_transform(valeur)))"
   ]
  },
  {
   "cell_type": "code",
   "execution_count": null,
   "metadata": {},
   "outputs": [],
   "source": []
  }
 ],
 "metadata": {
  "interpreter": {
   "hash": "b3ba2566441a7c06988d0923437866b63cedc61552a5af99d1f4fb67d367b25f"
  },
  "kernelspec": {
   "display_name": "Python 3",
   "language": "python",
   "name": "python3"
  },
  "language_info": {
   "codemirror_mode": {
    "name": "ipython",
    "version": 3
   },
   "file_extension": ".py",
   "mimetype": "text/x-python",
   "name": "python",
   "nbconvert_exporter": "python",
   "pygments_lexer": "ipython3",
   "version": "3.7.11"
  }
 },
 "nbformat": 4,
 "nbformat_minor": 2
}
